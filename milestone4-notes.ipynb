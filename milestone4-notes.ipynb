{
 "cells": [
  {
   "cell_type": "markdown",
   "id": "0031ea3a-57f5-4789-97de-accba6c6e2b1",
   "metadata": {},
   "source": [
    "# Visualization ideas\n",
    "* get_top_k_cities_with_most_incoming_airlines\n",
    "    - visualize on a map -- hard mode\n",
    "    - bar graph with number of incoming airlines per city -- easy mode\n",
    "\n",
    "* find k closest airports to city -- edit get_closest_airport_to_city to k airports\n",
    "    - use maps\n"
   ]
  }
 ],
 "metadata": {
  "kernelspec": {
   "display_name": "Python 3 (ipykernel)",
   "language": "python",
   "name": "python3"
  },
  "language_info": {
   "codemirror_mode": {
    "name": "ipython",
    "version": 3
   },
   "file_extension": ".py",
   "mimetype": "text/x-python",
   "name": "python",
   "nbconvert_exporter": "python",
   "pygments_lexer": "ipython3",
   "version": "3.8.10"
  }
 },
 "nbformat": 4,
 "nbformat_minor": 5
}
