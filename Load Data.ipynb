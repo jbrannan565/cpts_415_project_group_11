{
 "cells": [
  {
   "cell_type": "markdown",
   "id": "b3fbd000-0529-4827-b4c6-b05f975dcef4",
   "metadata": {},
   "source": [
    "# Load data through pyspark"
   ]
  },
  {
   "cell_type": "code",
   "execution_count": 7,
   "id": "59121ebd-1bfd-4bb8-8c39-5f4edace57f6",
   "metadata": {},
   "outputs": [
    {
     "name": "stderr",
     "output_type": "stream",
     "text": [
      "21/12/07 16:46:03 WARN UDTRegistration: Cannot register UDT for org.locationtech.jts.geom.Geometry, which is already registered.\n",
      "21/12/07 16:46:03 WARN UDTRegistration: Cannot register UDT for org.locationtech.jts.index.SpatialIndex, which is already registered.\n",
      "21/12/07 16:46:03 WARN SimpleFunctionRegistry: The function st_pointfromtext replaced a previously registered function.\n",
      "21/12/07 16:46:03 WARN SimpleFunctionRegistry: The function st_polygonfromtext replaced a previously registered function.\n",
      "21/12/07 16:46:03 WARN SimpleFunctionRegistry: The function st_linestringfromtext replaced a previously registered function.\n",
      "21/12/07 16:46:03 WARN SimpleFunctionRegistry: The function st_geomfromtext replaced a previously registered function.\n",
      "21/12/07 16:46:03 WARN SimpleFunctionRegistry: The function st_geomfromwkt replaced a previously registered function.\n",
      "21/12/07 16:46:03 WARN SimpleFunctionRegistry: The function st_geomfromwkb replaced a previously registered function.\n",
      "21/12/07 16:46:03 WARN SimpleFunctionRegistry: The function st_geomfromgeojson replaced a previously registered function.\n",
      "21/12/07 16:46:03 WARN SimpleFunctionRegistry: The function st_point replaced a previously registered function.\n",
      "21/12/07 16:46:03 WARN SimpleFunctionRegistry: The function st_polygonfromenvelope replaced a previously registered function.\n",
      "21/12/07 16:46:03 WARN SimpleFunctionRegistry: The function st_contains replaced a previously registered function.\n",
      "21/12/07 16:46:03 WARN SimpleFunctionRegistry: The function st_intersects replaced a previously registered function.\n",
      "21/12/07 16:46:03 WARN SimpleFunctionRegistry: The function st_within replaced a previously registered function.\n",
      "21/12/07 16:46:03 WARN SimpleFunctionRegistry: The function st_distance replaced a previously registered function.\n",
      "21/12/07 16:46:03 WARN SimpleFunctionRegistry: The function st_convexhull replaced a previously registered function.\n",
      "21/12/07 16:46:03 WARN SimpleFunctionRegistry: The function st_npoints replaced a previously registered function.\n",
      "21/12/07 16:46:03 WARN SimpleFunctionRegistry: The function st_buffer replaced a previously registered function.\n",
      "21/12/07 16:46:03 WARN SimpleFunctionRegistry: The function st_envelope replaced a previously registered function.\n",
      "21/12/07 16:46:03 WARN SimpleFunctionRegistry: The function st_length replaced a previously registered function.\n",
      "21/12/07 16:46:03 WARN SimpleFunctionRegistry: The function st_area replaced a previously registered function.\n",
      "21/12/07 16:46:03 WARN SimpleFunctionRegistry: The function st_centroid replaced a previously registered function.\n",
      "21/12/07 16:46:03 WARN SimpleFunctionRegistry: The function st_transform replaced a previously registered function.\n",
      "21/12/07 16:46:03 WARN SimpleFunctionRegistry: The function st_intersection replaced a previously registered function.\n",
      "21/12/07 16:46:03 WARN SimpleFunctionRegistry: The function st_isvalid replaced a previously registered function.\n",
      "21/12/07 16:46:03 WARN SimpleFunctionRegistry: The function st_precisionreduce replaced a previously registered function.\n",
      "21/12/07 16:46:03 WARN SimpleFunctionRegistry: The function st_equals replaced a previously registered function.\n",
      "21/12/07 16:46:03 WARN SimpleFunctionRegistry: The function st_touches replaced a previously registered function.\n",
      "21/12/07 16:46:03 WARN SimpleFunctionRegistry: The function st_overlaps replaced a previously registered function.\n",
      "21/12/07 16:46:03 WARN SimpleFunctionRegistry: The function st_crosses replaced a previously registered function.\n",
      "21/12/07 16:46:03 WARN SimpleFunctionRegistry: The function st_issimple replaced a previously registered function.\n",
      "21/12/07 16:46:03 WARN SimpleFunctionRegistry: The function st_makevalid replaced a previously registered function.\n",
      "21/12/07 16:46:03 WARN SimpleFunctionRegistry: The function st_simplifypreservetopology replaced a previously registered function.\n",
      "21/12/07 16:46:03 WARN SimpleFunctionRegistry: The function st_astext replaced a previously registered function.\n",
      "21/12/07 16:46:03 WARN SimpleFunctionRegistry: The function st_asgeojson replaced a previously registered function.\n",
      "21/12/07 16:46:03 WARN SimpleFunctionRegistry: The function st_geometrytype replaced a previously registered function.\n",
      "21/12/07 16:46:03 WARN SimpleFunctionRegistry: The function st_numgeometries replaced a previously registered function.\n",
      "21/12/07 16:46:03 WARN SimpleFunctionRegistry: The function st_linemerge replaced a previously registered function.\n",
      "21/12/07 16:46:03 WARN SimpleFunctionRegistry: The function st_azimuth replaced a previously registered function.\n",
      "21/12/07 16:46:03 WARN SimpleFunctionRegistry: The function st_x replaced a previously registered function.\n",
      "21/12/07 16:46:03 WARN SimpleFunctionRegistry: The function st_y replaced a previously registered function.\n",
      "21/12/07 16:46:03 WARN SimpleFunctionRegistry: The function st_startpoint replaced a previously registered function.\n",
      "21/12/07 16:46:03 WARN SimpleFunctionRegistry: The function st_boundary replaced a previously registered function.\n",
      "21/12/07 16:46:03 WARN SimpleFunctionRegistry: The function st_minimumboundingradius replaced a previously registered function.\n",
      "21/12/07 16:46:03 WARN SimpleFunctionRegistry: The function st_minimumboundingcircle replaced a previously registered function.\n",
      "21/12/07 16:46:03 WARN SimpleFunctionRegistry: The function st_endpoint replaced a previously registered function.\n",
      "21/12/07 16:46:03 WARN SimpleFunctionRegistry: The function st_exteriorring replaced a previously registered function.\n",
      "21/12/07 16:46:03 WARN SimpleFunctionRegistry: The function st_geometryn replaced a previously registered function.\n",
      "21/12/07 16:46:03 WARN SimpleFunctionRegistry: The function st_interiorringn replaced a previously registered function.\n",
      "21/12/07 16:46:03 WARN SimpleFunctionRegistry: The function st_dump replaced a previously registered function.\n",
      "21/12/07 16:46:03 WARN SimpleFunctionRegistry: The function st_dumppoints replaced a previously registered function.\n",
      "21/12/07 16:46:03 WARN SimpleFunctionRegistry: The function st_isclosed replaced a previously registered function.\n",
      "21/12/07 16:46:03 WARN SimpleFunctionRegistry: The function st_numinteriorrings replaced a previously registered function.\n",
      "21/12/07 16:46:03 WARN SimpleFunctionRegistry: The function st_addpoint replaced a previously registered function.\n",
      "21/12/07 16:46:03 WARN SimpleFunctionRegistry: The function st_removepoint replaced a previously registered function.\n",
      "21/12/07 16:46:03 WARN SimpleFunctionRegistry: The function st_isring replaced a previously registered function.\n",
      "21/12/07 16:46:03 WARN SimpleFunctionRegistry: The function st_flipcoordinates replaced a previously registered function.\n",
      "21/12/07 16:46:03 WARN SimpleFunctionRegistry: The function st_linesubstring replaced a previously registered function.\n",
      "21/12/07 16:46:03 WARN SimpleFunctionRegistry: The function st_lineinterpolatepoint replaced a previously registered function.\n",
      "21/12/07 16:46:03 WARN SimpleFunctionRegistry: The function st_union_aggr replaced a previously registered function.\n",
      "21/12/07 16:46:03 WARN SimpleFunctionRegistry: The function st_envelope_aggr replaced a previously registered function.\n",
      "21/12/07 16:46:03 WARN SimpleFunctionRegistry: The function st_intersection_aggr replaced a previously registered function.\n"
     ]
    },
    {
     "data": {
      "text/plain": [
       "True"
      ]
     },
     "execution_count": 7,
     "metadata": {},
     "output_type": "execute_result"
    }
   ],
   "source": [
    "from pyspark.sql import SparkSession\n",
    "from sedona.register import SedonaRegistrator\n",
    "from sedona.utils import SedonaKryoRegistrator, KryoSerializer\n",
    "import geopandas as gpd\n",
    "\n",
    "spark = SparkSession. \\\n",
    "    builder. \\\n",
    "    appName('Load Data'). \\\n",
    "    master('local[*]'). \\\n",
    "    config(\"spark.serializer\", KryoSerializer.getName). \\\n",
    "    config(\"spark.kryo.registrator\", SedonaKryoRegistrator.getName). \\\n",
    "    config('spark.jars.packages',\n",
    "           'org.apache.sedona:sedona-python-adapter-3.0_2.12:1.0.1-incubating,'\n",
    "           'org.datasyslab:geotools-wrapper:geotools-24.1'). \\\n",
    "    getOrCreate()\n",
    "\n",
    "SedonaRegistrator.registerAll(spark)"
   ]
  },
  {
   "cell_type": "code",
   "execution_count": 8,
   "id": "67b2eaf0-0bed-4d31-9091-70cba47f0456",
   "metadata": {},
   "outputs": [
    {
     "name": "stdout",
     "output_type": "stream",
     "text": [
      "+-------------+--------------------+\n",
      "|        State|             Polygon|\n",
      "+-------------+--------------------+\n",
      "|       Alaska|POLYGON((-141.020...|\n",
      "|      Alabama|POLYGON((-88.1955...|\n",
      "|     Arkansas|POLYGON((-94.0416...|\n",
      "|      Arizona|POLYGON((-112.598...|\n",
      "|   California|POLYGON((-124.400...|\n",
      "|     Colorado|POLYGON((-109.044...|\n",
      "|  Connecticut|POLYGON((-73.4875...|\n",
      "|     Delaware|POLYGON((-75.7919...|\n",
      "|      Florida|POLYGON((-87.6050...|\n",
      "|      Georgia|POLYGON((-85.6082...|\n",
      "|       Hawaii|POLYGON((-154.628...|\n",
      "|         Iowa|POLYGON((-95.7623...|\n",
      "|        Idaho|POLYGON((-117.031...|\n",
      "|     Illinois|POLYGON((-90.6290...|\n",
      "|      Indiana|POLYGON((-87.5253...|\n",
      "|       Kansas|POLYGON((-102.050...|\n",
      "|     Kentucky|POLYGON((-89.5372...|\n",
      "|    Louisiana|POLYGON((-94.0430...|\n",
      "|Massachusetts|POLYGON((-72.7789...|\n",
      "|     Maryland|POLYGON((-79.4778...|\n",
      "+-------------+--------------------+\n",
      "only showing top 20 rows\n",
      "\n"
     ]
    }
   ],
   "source": [
    "states_tsv = spark.read.option(\"delimiter\", \"\\t\").option(\"header\", \"false\").csv(\"clean_data/boundary-each-state.tsv\").toDF(\"State\",\"Polygon\")\n",
    "states_tsv.show()"
   ]
  },
  {
   "cell_type": "code",
   "execution_count": 9,
   "id": "79483686-5fb4-4bc0-88a6-583d46cde8b2",
   "metadata": {},
   "outputs": [
    {
     "name": "stdout",
     "output_type": "stream",
     "text": [
      "+----------+--------------------+--------------+----------------+----+----+------------------+-------------------+--------+--------+---+--------------------+-------+-----------+\n",
      "|Airport ID|                Name|          City|         Country|IATA|ICAO|          Latitude|          Longitude|Altitude|Timezone|DST|Tz database timezone|   Type|     Source|\n",
      "+----------+--------------------+--------------+----------------+----+----+------------------+-------------------+--------+--------+---+--------------------+-------+-----------+\n",
      "|         1|      Goroka Airport|        Goroka|Papua New Guinea| GKA|AYGA|-6.081689834590001|      145.391998291|    5282|      10|  U|Pacific/Port_Moresby|airport|OurAirports|\n",
      "|         2|      Madang Airport|        Madang|Papua New Guinea| MAG|AYMD|    -5.20707988739|      145.789001465|      20|      10|  U|Pacific/Port_Moresby|airport|OurAirports|\n",
      "|         3|Mount Hagen Kagam...|   Mount Hagen|Papua New Guinea| HGU|AYMH|-5.826789855957031| 144.29600524902344|    5388|      10|  U|Pacific/Port_Moresby|airport|OurAirports|\n",
      "|         4|      Nadzab Airport|        Nadzab|Papua New Guinea| LAE|AYNZ|         -6.569803|         146.725977|     239|      10|  U|Pacific/Port_Moresby|airport|OurAirports|\n",
      "|         5|Port Moresby Jack...|  Port Moresby|Papua New Guinea| POM|AYPY|-9.443380355834961| 147.22000122070312|     146|      10|  U|Pacific/Port_Moresby|airport|OurAirports|\n",
      "|         6|Wewak Internation...|         Wewak|Papua New Guinea| WWK|AYWK|    -3.58383011818|      143.669006348|      19|      10|  U|Pacific/Port_Moresby|airport|OurAirports|\n",
      "|         7|  Narsarsuaq Airport|  Narssarssuaq|       Greenland| UAK|BGBW|     61.1604995728|     -45.4259986877|     112|      -3|  E|     America/Godthab|airport|OurAirports|\n",
      "|         8|Godthaab / Nuuk A...|      Godthaab|       Greenland| GOH|BGGH|       64.19090271|     -51.6781005859|     283|      -3|  E|     America/Godthab|airport|OurAirports|\n",
      "|         9|Kangerlussuaq Air...|   Sondrestrom|       Greenland| SFJ|BGSF|     67.0122218992|     -50.7116031647|     165|      -3|  E|     America/Godthab|airport|OurAirports|\n",
      "|        10|      Thule Air Base|         Thule|       Greenland| THU|BGTL|     76.5311965942|     -68.7032012939|     251|      -4|  E|       America/Thule|airport|OurAirports|\n",
      "|        11|    Akureyri Airport|      Akureyri|         Iceland| AEY|BIAR| 65.66000366210938| -18.07270050048828|       6|       0|  N|  Atlantic/Reykjavik|airport|OurAirports|\n",
      "|        12| Egilsstaðir Airport|   Egilsstadir|         Iceland| EGS|BIEG|  65.2833023071289|-14.401399612426758|      76|       0|  N|  Atlantic/Reykjavik|airport|OurAirports|\n",
      "|        13|Hornafjörður Airport|          Hofn|         Iceland| HFN|BIHN|         64.295601|           -15.2272|      24|       0|  N|  Atlantic/Reykjavik|airport|OurAirports|\n",
      "|        14|     Húsavík Airport|       Husavik|         Iceland| HZK|BIHU|         65.952301|         -17.426001|      48|       0|  N|  Atlantic/Reykjavik|airport|OurAirports|\n",
      "|        15|  Ísafjörður Airport|    Isafjordur|         Iceland| IFJ|BIIS| 66.05809783935547|-23.135299682617188|       8|       0|  N|  Atlantic/Reykjavik|airport|OurAirports|\n",
      "|        16|Keflavik Internat...|      Keflavik|         Iceland| KEF|BIKF|   63.985000610352|   -22.605600357056|     171|       0|  N|  Atlantic/Reykjavik|airport|OurAirports|\n",
      "|        17|Patreksfjörður Ai...|Patreksfjordur|         Iceland| PFJ|BIPA|         65.555801|            -23.965|      11|       0|  N|  Atlantic/Reykjavik|airport|OurAirports|\n",
      "|        18|   Reykjavik Airport|     Reykjavik|         Iceland| RKV|BIRK|     64.1299972534|     -21.9405994415|      48|       0|  N|  Atlantic/Reykjavik|airport|OurAirports|\n",
      "|        19|Siglufjörður Airport|  Siglufjordur|         Iceland| SIJ|BISI|         66.133301|           -18.9167|      10|       0|  N|  Atlantic/Reykjavik|airport|OurAirports|\n",
      "|        20|Vestmannaeyjar Ai...|Vestmannaeyjar|         Iceland| VEY|BIVM| 63.42430114746094|-20.278900146484375|     326|       0|  N|  Atlantic/Reykjavik|airport|OurAirports|\n",
      "+----------+--------------------+--------------+----------------+----+----+------------------+-------------------+--------+--------+---+--------------------+-------+-----------+\n",
      "only showing top 20 rows\n",
      "\n"
     ]
    }
   ],
   "source": [
    "airports_dat = spark.read.option(\"delimiter\", \",\").option(\"header\", \"false\").csv(\"raw_data/airports.dat\") \\\n",
    "                  .toDF(\"Airport ID\",\"Name\",\"City\",\"Country\",\"IATA\",\"ICAO\",\"Latitude\",\"Longitude\",\"Altitude\",\"Timezone\",\"DST\",\"Tz database timezone\",\"Type\",\"Source\")\n",
    "airports_dat.show()"
   ]
  },
  {
   "cell_type": "code",
   "execution_count": 10,
   "id": "e94ca703-d1f9-454e-ab40-f0a426124720",
   "metadata": {},
   "outputs": [
    {
     "name": "stdout",
     "output_type": "stream",
     "text": [
      "+----------+--------------------+-----+----+----+--------------+--------------+------+\n",
      "|Airline ID|                Name|Alias|IATA|ICAO|      Callsign|       Country|Active|\n",
      "+----------+--------------------+-----+----+----+--------------+--------------+------+\n",
      "|        -1|             Unknown|   \\N|   -| N/A|            \\N|            \\N|     Y|\n",
      "|         1|      Private flight|   \\N|   -| N/A|          null|          null|     Y|\n",
      "|         2|         135 Airways|   \\N|null| GNL|       GENERAL| United States|     N|\n",
      "|         3|       1Time Airline|   \\N|  1T| RNX|       NEXTIME|  South Africa|     Y|\n",
      "|         4|2 Sqn No 1 Elemen...|   \\N|null| WYT|          null|United Kingdom|     N|\n",
      "|         5|     213 Flight Unit|   \\N|null| TFU|          null|        Russia|     N|\n",
      "|         6|223 Flight Unit S...|   \\N|null| CHD|CHKALOVSK-AVIA|        Russia|     N|\n",
      "|         7|   224th Flight Unit|   \\N|null| TTF|    CARGO UNIT|        Russia|     N|\n",
      "|         8|         247 Jet Ltd|   \\N|null| TWF|  CLOUD RUNNER|United Kingdom|     N|\n",
      "|         9|         3D Aviation|   \\N|null| SEC|       SECUREX| United States|     N|\n",
      "|        10|         40-Mile Air|   \\N|  Q5| MLA|      MILE-AIR| United States|     Y|\n",
      "|        11|              4D Air|   \\N|null| QRT|       QUARTET|      Thailand|     N|\n",
      "|        12|611897 Alberta Li...|   \\N|null| THD|         DONUT|        Canada|     N|\n",
      "|        13|    Ansett Australia|   \\N|  AN| AAA|        ANSETT|     Australia|     Y|\n",
      "|        14|Abacus International|   \\N|  1B|null|          null|     Singapore|     Y|\n",
      "|        15|     Abelag Aviation|   \\N|  W9| AAB|           ABG|       Belgium|     N|\n",
      "|        16|      Army Air Corps|   \\N|null| AAC|       ARMYAIR|United Kingdom|     N|\n",
      "|        17|Aero Aviation Cen...|   \\N|null| AAD|       SUNRISE|        Canada|     N|\n",
      "|        18|Aero Servicios Ej...|   \\N|null| SII|        ASEISA|        Mexico|     N|\n",
      "|        19|         Aero Biniza|   \\N|null| BZS|        BINIZA|        Mexico|     N|\n",
      "+----------+--------------------+-----+----+----+--------------+--------------+------+\n",
      "only showing top 20 rows\n",
      "\n"
     ]
    }
   ],
   "source": [
    "airlines_dat = spark.read.option(\"delimiter\", \",\").option(\"header\", \"false\").csv(\"raw_data/airlines.dat\") \\\n",
    "                  .toDF(\"Airline ID\",\"Name\",\"Alias\",\"IATA\",\"ICAO\",\"Callsign\",\"Country\",\"Active\")\n",
    "airlines_dat.show()"
   ]
  },
  {
   "cell_type": "code",
   "execution_count": 11,
   "id": "0a3c5d11-e4e9-4e83-b33d-52306e2d9669",
   "metadata": {},
   "outputs": [
    {
     "name": "stdout",
     "output_type": "stream",
     "text": [
      "+-------+----------+--------------+-----------------+-------------------+----------------------+---------+-----+---------+\n",
      "|Airline|Airline ID|Source airport|Source airport ID|Destination airport|Destination airport ID|Codeshare|Stops|Equipment|\n",
      "+-------+----------+--------------+-----------------+-------------------+----------------------+---------+-----+---------+\n",
      "|     2B|       410|           AER|             2965|                KZN|                  2990|     null|    0|      CR2|\n",
      "|     2B|       410|           ASF|             2966|                KZN|                  2990|     null|    0|      CR2|\n",
      "|     2B|       410|           ASF|             2966|                MRV|                  2962|     null|    0|      CR2|\n",
      "|     2B|       410|           CEK|             2968|                KZN|                  2990|     null|    0|      CR2|\n",
      "|     2B|       410|           CEK|             2968|                OVB|                  4078|     null|    0|      CR2|\n",
      "|     2B|       410|           DME|             4029|                KZN|                  2990|     null|    0|      CR2|\n",
      "|     2B|       410|           DME|             4029|                NBC|                  6969|     null|    0|      CR2|\n",
      "|     2B|       410|           DME|             4029|                TGK|                    \\N|     null|    0|      CR2|\n",
      "|     2B|       410|           DME|             4029|                UUA|                  6160|     null|    0|      CR2|\n",
      "|     2B|       410|           EGO|             6156|                KGD|                  2952|     null|    0|      CR2|\n",
      "|     2B|       410|           EGO|             6156|                KZN|                  2990|     null|    0|      CR2|\n",
      "|     2B|       410|           GYD|             2922|                NBC|                  6969|     null|    0|      CR2|\n",
      "|     2B|       410|           KGD|             2952|                EGO|                  6156|     null|    0|      CR2|\n",
      "|     2B|       410|           KZN|             2990|                AER|                  2965|     null|    0|      CR2|\n",
      "|     2B|       410|           KZN|             2990|                ASF|                  2966|     null|    0|      CR2|\n",
      "|     2B|       410|           KZN|             2990|                CEK|                  2968|     null|    0|      CR2|\n",
      "|     2B|       410|           KZN|             2990|                DME|                  4029|     null|    0|      CR2|\n",
      "|     2B|       410|           KZN|             2990|                EGO|                  6156|     null|    0|      CR2|\n",
      "|     2B|       410|           KZN|             2990|                LED|                  2948|     null|    0|      CR2|\n",
      "|     2B|       410|           KZN|             2990|                SVX|                  2975|     null|    0|      CR2|\n",
      "+-------+----------+--------------+-----------------+-------------------+----------------------+---------+-----+---------+\n",
      "only showing top 20 rows\n",
      "\n"
     ]
    }
   ],
   "source": [
    "routes_dat = spark.read.option(\"delimiter\", \",\").option(\"header\", \"false\").csv(\"raw_data/routes.dat\") \\\n",
    "                  .toDF(\"Airline\",\"Airline ID\",\"Source airport\",\"Source airport ID\",\"Destination airport\",\"Destination airport ID\",\"Codeshare\",\"Stops\",\"Equipment\")\n",
    "routes_dat.show()"
   ]
  },
  {
   "cell_type": "code",
   "execution_count": 12,
   "id": "059b1e03-75f6-480a-bac3-e10247709794",
   "metadata": {},
   "outputs": [
    {
     "name": "stdout",
     "output_type": "stream",
     "text": [
      "+-------+--------------------+\n",
      "| c_name|               c_loc|\n",
      "+-------+--------------------+\n",
      "|Pullman|-117.167126_46.73...|\n",
      "|Phoenix|-112.092128_33.50...|\n",
      "+-------+--------------------+\n",
      "\n"
     ]
    }
   ],
   "source": [
    "cities_csv = spark.read.option(\"delimiter\", \",\").option(\"header\", \"false\").csv(\"raw_data/cities.csv\").toDF(\"c_name\",\"c_loc\")\n",
    "cities_csv.show()"
   ]
  },
  {
   "cell_type": "code",
   "execution_count": null,
   "id": "6114857f-2171-4b08-a690-7769c2d2e45a",
   "metadata": {},
   "outputs": [],
   "source": []
  }
 ],
 "metadata": {
  "kernelspec": {
   "display_name": "Python 3 (ipykernel)",
   "language": "python",
   "name": "python3"
  },
  "language_info": {
   "codemirror_mode": {
    "name": "ipython",
    "version": 3
   },
   "file_extension": ".py",
   "mimetype": "text/x-python",
   "name": "python",
   "nbconvert_exporter": "python",
   "pygments_lexer": "ipython3",
   "version": "3.8.10"
  }
 },
 "nbformat": 4,
 "nbformat_minor": 5
}
